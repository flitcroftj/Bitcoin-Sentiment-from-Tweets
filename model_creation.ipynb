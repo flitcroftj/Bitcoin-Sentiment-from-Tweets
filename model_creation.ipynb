{
 "cells": [
  {
   "cell_type": "code",
   "execution_count": 2,
   "metadata": {},
   "outputs": [
    {
     "ename": "ModuleNotFoundError",
     "evalue": "No module named 'gensim'",
     "output_type": "error",
     "traceback": [
      "\u001b[1;31m---------------------------------------------------------------------------\u001b[0m",
      "\u001b[1;31mModuleNotFoundError\u001b[0m                       Traceback (most recent call last)",
      "\u001b[1;32m~\\AppData\\Local\\Temp/ipykernel_3968/1672383292.py\u001b[0m in \u001b[0;36m<module>\u001b[1;34m\u001b[0m\n\u001b[0;32m      3\u001b[0m \u001b[1;32mimport\u001b[0m \u001b[0mnltk\u001b[0m\u001b[1;33m\u001b[0m\u001b[1;33m\u001b[0m\u001b[0m\n\u001b[0;32m      4\u001b[0m \u001b[1;32mimport\u001b[0m \u001b[0mmultiprocessing\u001b[0m\u001b[1;33m\u001b[0m\u001b[1;33m\u001b[0m\u001b[0m\n\u001b[1;32m----> 5\u001b[1;33m \u001b[1;32mfrom\u001b[0m \u001b[0mgensim\u001b[0m\u001b[1;33m.\u001b[0m\u001b[0mmodels\u001b[0m \u001b[1;32mimport\u001b[0m \u001b[0mWord2Vec\u001b[0m\u001b[1;33m\u001b[0m\u001b[1;33m\u001b[0m\u001b[0m\n\u001b[0m\u001b[0;32m      6\u001b[0m \u001b[1;32mfrom\u001b[0m \u001b[0msklearn\u001b[0m\u001b[1;33m.\u001b[0m\u001b[0mcluster\u001b[0m \u001b[1;32mimport\u001b[0m \u001b[0mKMeans\u001b[0m\u001b[1;33m\u001b[0m\u001b[1;33m\u001b[0m\u001b[0m\n\u001b[0;32m      7\u001b[0m \u001b[0mnltk\u001b[0m\u001b[1;33m.\u001b[0m\u001b[0mdownload\u001b[0m\u001b[1;33m(\u001b[0m\u001b[1;34m'wordnet'\u001b[0m\u001b[1;33m)\u001b[0m\u001b[1;33m\u001b[0m\u001b[1;33m\u001b[0m\u001b[0m\n",
      "\u001b[1;31mModuleNotFoundError\u001b[0m: No module named 'gensim'"
     ]
    }
   ],
   "source": [
    "import numpy as np\n",
    "import pandas as pd\n",
    "import nltk\n",
    "import multiprocessing\n",
    "from gensim.models import Word2Vec\n",
    "from sklearn.cluster import KMeans\n",
    "nltk.download('wordnet')\n",
    "nltk.download('stopwords')\n",
    "w_tokenizer = nltk.tokenize.WhitespaceTokenizer()\n",
    "lemmatizer = nltk.stem.WordNetLemmatizer()\n",
    "from nltk.corpus import stopwords\n",
    "import twint\n",
    "import nest_asyncio\n",
    "import matplotlib.pyplot as plt\n",
    "nest_asyncio.apply()"
   ]
  },
  {
   "cell_type": "code",
   "execution_count": 38,
   "metadata": {},
   "outputs": [
    {
     "name": "stdout",
     "output_type": "stream",
     "text": [
      "1509681695288614913 2022-03-31 18:58:59 -0500 <DWhitmanBTC> There’s only one thing we can do  Fix the money #Bitcoin\n",
      "1509680938481029122 2022-03-31 18:55:58 -0500 <ynnos1999_> @CryptoWizardd @CryptoHayes when they start saying 1m bitcoin and 5 digit eth its  time to sell for the pullback, literally happens every single time\n",
      "1509680633345417220 2022-03-31 18:54:46 -0500 <CaitlinLong_> THIS IS ONE OF A FEW potential big fights over U.S. #crypto regulation that seem likely to end up in court soon. A number of #bitcoin whales are gearing up for exactly these fights.\n",
      "1509680596095701006 2022-03-31 18:54:37 -0500 <itscachemoney> Whenever I get too happy my brain automatically thinks about the time I mined a few bitcoin and sent them to the wrong address\n",
      "1509680465506144258 2022-03-31 18:54:06 -0500 <Kripto_Poyraz> Aylık kapanış 45500 üzerinde olursa güzel olur.  #bitcoin\n",
      "1509680338863366149 2022-03-31 18:53:35 -0500 <cberktavsan> Bitcoin düşüyor Ethereum düşmüyor ne kadar güzel market  when flippening??\n",
      "1509680222861410305 2022-03-31 18:53:08 -0500 <atority_DeFi> The European crypto law will make some pple sell as usual.  Hmmm. Decentralization can only be killed if you off the internet.  No government can stop a decentralized technology. If it is that easy. They would have killed Bitcoin long time ago.  Education is key\n",
      "1509680097489567746 2022-03-31 18:52:38 -0500 <canozsuerx> #Bitcoin bize 1 Nisan şakası yapıyor.\n",
      "1509679966631481345 2022-03-31 18:52:07 -0500 <TimMuth> A pretty straightforward explanation of why Bitcoin won't save the Salvadoran economy.    https://t.co/BJqzNDa3iU\n",
      "1509679948335779853 2022-03-31 18:52:02 -0500 <Cointelegraph> Bitcoin price cools off after a strong run at the $50,000 level, but analysts are not entirely sure on what the next step might be.  https://t.co/ntak58qWE6\n",
      "1509679817922334724 2022-03-31 18:51:31 -0500 <monicataher> Gracias Cónsul @JavierReyes_Sv en @ConsulSevillaSV por apoyar la iniciativa de identificar inversionistas entre los grupos de #mujeres profesionales españolas con quienes nos hemos reunido.   Más #tecnología Más #Bitcoin Más #blockchain para #ElSalvador   #Kalifactor  https://t.co/IvCCqpzgL5\n",
      "1509679431878647810 2022-03-31 18:49:59 -0500 <CryptoPicsou> Il serait peut-être temps de rebondir monsieur Bitcoin, non ?\n",
      "1509679303105167361 2022-03-31 18:49:29 -0500 <Roman_Trading> $BTC Daily  Terrible close if you were bullish. I’ve been saying this move was full of fake pumps and backed by derivatives (most fakeouts are).  Closing the weekly below 45.5 respects the death cross and we should see a 50%+ dump in the coming months.  #bitcoin #cryptocurrency  https://t.co/bxOSFRf9CM\n",
      "1509679259358478338 2022-03-31 18:49:18 -0500 <21Msupply> The savviest investors think long term.    #Bitcoin\n",
      "1509678795669876736 2022-03-31 18:47:28 -0500 <CosmosHOSS> What will be a better return on your investment in the next 365 days with $45,677 dollars  439.8363023591719 $LUNA   or   1 $BTC @ 45,677   #LUNAtics #Bitcoin #cryptocurrency #Web3 #CosmosEcosystem #Bitcoin2022 #WAGMI  https://t.co/8vTDL1dew7\n",
      "1509678779576520704 2022-03-31 18:47:24 -0500 <Whiskey_bonbon_> 200日線はきっちりと叩かれているけど、まあ言うても拾う場所だけだろという感じ BTC、アルトと順番に資金が入ってくる展開を期待 #Bitcoin  https://t.co/tQjpwM9JQl\n",
      "1509678651889094667 2022-03-31 18:46:53 -0500 <CryptoViewing> 🎙Dick Allgire - Oil, Rubles, Gold, Bitcoin, War!  https://t.co/k4vbGfO2tO via @YouTube #DickAllgire #Bitcoin #Rubles #Gold #News #Cryptoviewing  https://t.co/4UTTgfPpsn\n",
      "1509678640564477952 2022-03-31 18:46:51 -0500 <revolucionconb> El empresario y bitcoiner mexicano 🇲🇽 Ricardo Salinas (@RicardoBSalinas) tiene en planes potenciar la minería de #Bitcoin en su país a partir de este mismo 2022.  Gobiernos y grandes empresas siguen apostando a #Bitcoin y su adopción en todos los niveles.  Vía: @CriptoNoticias  https://t.co/zsvRmnI1Bl\n",
      "1509678602094510085 2022-03-31 18:46:41 -0500 <emmaquilty_> In today's reading group on trust + automation we are discussing this fantastic paper exploring the enchanting &amp; romantic power of technologies like blockchain by exploring the secular rituals &amp; myths created by bitcoin communities.   https://t.co/Ndx4ihVEVM  https://t.co/qpOgYmyxI2\n",
      "1509678577087877125 2022-03-31 18:46:35 -0500 <imjackyrivero> Marzo es el mes de la mujer y este año @BFXLeosESP me invitó a participar en CryptoMujeres, un ciclo de entrevistas a 4 rockstar de #Bitcoin:  ✨ @criptolawyer ✨@ocandocrypto ✨@camilacampton ✨@LOReBitcoin  HILO🧵de las lecciones inspiradoras con las que me quedé👇\n",
      "[!] No more data! Scraping will stop now.\n",
      "found 0 deleted tweets in this search.\n",
      "[+] Finished: Successfully collected 20 Tweets.\n"
     ]
    }
   ],
   "source": [
    "c = twint.Config()\n",
    "c.Search= 'bitcoin'\n",
    "\n",
    "c.Min_likes = 10\n",
    "c.Count = True\n",
    "c.Until = \"2022-04-02\"\n",
    "c.Since = \"2021-03-25\" #First few days of this month\n",
    "c.Store_csv = True # This is for storing file in csv format (if you want in json file it will be c.Store_json=True)\n",
    "c.Output = 'test.csv'\n",
    "\n",
    "_ = twint.run.Search(c)"
   ]
  },
  {
   "cell_type": "markdown",
   "metadata": {},
   "source": [
    "### Import it into dataframe"
   ]
  },
  {
   "cell_type": "code",
   "execution_count": 3,
   "metadata": {},
   "outputs": [
    {
     "name": "stdout",
     "output_type": "stream",
     "text": [
      "<class 'pandas.core.frame.DataFrame'>\n",
      "Int64Index: 24699 entries, 0 to 60163\n",
      "Data columns (total 2 columns):\n",
      " #   Column  Non-Null Count  Dtype \n",
      "---  ------  --------------  ----- \n",
      " 0   date    24699 non-null  object\n",
      " 1   tweet   24699 non-null  object\n",
      "dtypes: object(2)\n",
      "memory usage: 578.9+ KB\n"
     ]
    },
    {
     "name": "stderr",
     "output_type": "stream",
     "text": [
      "c:\\ProgramData\\Anaconda3\\lib\\site-packages\\IPython\\core\\interactiveshell.py:3444: DtypeWarning: Columns (9) have mixed types.Specify dtype option on import or set low_memory=False.\n",
      "  exec(code_obj, self.user_global_ns, self.user_ns)\n"
     ]
    }
   ],
   "source": [
    "df = pd.read_csv('bitcoin.csv')\n",
    "\n",
    "df = df[df[\"language\"]==\"en\"] #Get rid of non-english tweets\n",
    "# dropping all the duplicates tweets and keeping only the first values\n",
    "df = df.drop_duplicates(subset=\"tweet\",keep=\"first\")\n",
    "df = df[['date', 'tweet']]\n",
    "df.info()"
   ]
  },
  {
   "cell_type": "markdown",
   "metadata": {},
   "source": [
    "### Data processing down to lemma form"
   ]
  },
  {
   "cell_type": "code",
   "execution_count": 3,
   "metadata": {},
   "outputs": [],
   "source": [
    "def lemmatize_text(text):\n",
    "    return list([lemmatizer.lemmatize(w) for w in w_tokenizer.tokenize(text)])"
   ]
  },
  {
   "cell_type": "code",
   "execution_count": 105,
   "metadata": {},
   "outputs": [
    {
     "data": {
      "text/html": [
       "<div>\n",
       "<style scoped>\n",
       "    .dataframe tbody tr th:only-of-type {\n",
       "        vertical-align: middle;\n",
       "    }\n",
       "\n",
       "    .dataframe tbody tr th {\n",
       "        vertical-align: top;\n",
       "    }\n",
       "\n",
       "    .dataframe thead th {\n",
       "        text-align: right;\n",
       "    }\n",
       "</style>\n",
       "<table border=\"1\" class=\"dataframe\">\n",
       "  <thead>\n",
       "    <tr style=\"text-align: right;\">\n",
       "      <th></th>\n",
       "      <th>date</th>\n",
       "      <th>tweet</th>\n",
       "      <th>lemmatized</th>\n",
       "      <th>prepped</th>\n",
       "      <th>no_stop</th>\n",
       "    </tr>\n",
       "  </thead>\n",
       "  <tbody>\n",
       "    <tr>\n",
       "      <th>2913</th>\n",
       "      <td>2022-05-02</td>\n",
       "      <td>this is how hex made the crypto market appear ...</td>\n",
       "      <td>[this, is, how, hex, made, the, crypto, market...</td>\n",
       "      <td>alpha thrust bullish daily reversal best combo...</td>\n",
       "      <td>[alpha, thrust, bullish, daily, reversal, best...</td>\n",
       "    </tr>\n",
       "    <tr>\n",
       "      <th>2914</th>\n",
       "      <td>2022-05-02</td>\n",
       "      <td>new improved entityadjusted supply distributio...</td>\n",
       "      <td>[new, improved, entityadjusted, supply, distri...</td>\n",
       "      <td>austin bitcoiners need help join u thursday au...</td>\n",
       "      <td>[austin, bitcoiners, need, help, join, u, thur...</td>\n",
       "    </tr>\n",
       "    <tr>\n",
       "      <th>2915</th>\n",
       "      <td>2022-05-02</td>\n",
       "      <td>bitboycrypto i first learned about bitcoin at ...</td>\n",
       "      <td>[bitboycrypto, i, first, learned, about, bitco...</td>\n",
       "      <td>mikealfred cardano swipe wa really weak dont e...</td>\n",
       "      <td>[mikealfred, cardano, swipe, wa, really, weak,...</td>\n",
       "    </tr>\n",
       "    <tr>\n",
       "      <th>2916</th>\n",
       "      <td>2022-05-02</td>\n",
       "      <td>vechain vet   yesterday  vechainthor accounts ...</td>\n",
       "      <td>[vechain, vet, yesterday, vechainthor, account...</td>\n",
       "      <td>coachpbtc intocryptoverse bitcoin orange chip ...</td>\n",
       "      <td>[coachpbtc, intocryptoverse, bitcoin, orange, ...</td>\n",
       "    </tr>\n",
       "    <tr>\n",
       "      <th>2917</th>\n",
       "      <td>2022-05-02</td>\n",
       "      <td>satoshisarah nobody owns it thats why theres c...</td>\n",
       "      <td>[satoshisarah, nobody, owns, it, thats, why, t...</td>\n",
       "      <td>bitcoin go</td>\n",
       "      <td>[bitcoin, go]</td>\n",
       "    </tr>\n",
       "  </tbody>\n",
       "</table>\n",
       "</div>"
      ],
      "text/plain": [
       "            date                                              tweet  \\\n",
       "2913  2022-05-02  this is how hex made the crypto market appear ...   \n",
       "2914  2022-05-02  new improved entityadjusted supply distributio...   \n",
       "2915  2022-05-02  bitboycrypto i first learned about bitcoin at ...   \n",
       "2916  2022-05-02  vechain vet   yesterday  vechainthor accounts ...   \n",
       "2917  2022-05-02  satoshisarah nobody owns it thats why theres c...   \n",
       "\n",
       "                                             lemmatized  \\\n",
       "2913  [this, is, how, hex, made, the, crypto, market...   \n",
       "2914  [new, improved, entityadjusted, supply, distri...   \n",
       "2915  [bitboycrypto, i, first, learned, about, bitco...   \n",
       "2916  [vechain, vet, yesterday, vechainthor, account...   \n",
       "2917  [satoshisarah, nobody, owns, it, thats, why, t...   \n",
       "\n",
       "                                                prepped  \\\n",
       "2913  alpha thrust bullish daily reversal best combo...   \n",
       "2914  austin bitcoiners need help join u thursday au...   \n",
       "2915  mikealfred cardano swipe wa really weak dont e...   \n",
       "2916  coachpbtc intocryptoverse bitcoin orange chip ...   \n",
       "2917                                        bitcoin go    \n",
       "\n",
       "                                                no_stop  \n",
       "2913  [alpha, thrust, bullish, daily, reversal, best...  \n",
       "2914  [austin, bitcoiners, need, help, join, u, thur...  \n",
       "2915  [mikealfred, cardano, swipe, wa, really, weak,...  \n",
       "2916  [coachpbtc, intocryptoverse, bitcoin, orange, ...  \n",
       "2917                                      [bitcoin, go]  "
      ]
     },
     "execution_count": 105,
     "metadata": {},
     "output_type": "execute_result"
    }
   ],
   "source": [
    "df['tweet'] = df['tweet'].astype(str)\n",
    "df['tweet'] = df['tweet'].str.lower()  # Make everything lowercase\n",
    "df['tweet'] = df['tweet'].str.replace(r'[^a-z\\s]', '', regex=True)  # Remove anything not numeric\n",
    "\n",
    "df['lemmatized'] = df.tweet.apply(lemmatize_text)  # Lemmatize each word\n",
    "df['prepped'] = pd.DataFrame(df.lemmatized.tolist()).fillna('').astype(str).agg(' '.join, 1)  # Concatenate the lemmatized words\n",
    "df = df[df['prepped'].notna()]\n",
    "df = df[df[\"prepped\"].str.contains(\"bitcoin\")]  # Get rid of rows where the word bitcoin isnt present in the tweet\n",
    "\n",
    "stop = stopwords.words('english')\n",
    "pat = r'\\b(?:{})\\b'.format('|'.join(stop))  # Create regex pattern from stopwords\n",
    "df['prepped'] = df['prepped'].str.replace(pat, '', regex=True)  # Remove stop words\n",
    "df['prepped'] = df['prepped'].str.replace(r'\\s+', ' ', regex=True)  # Remove spaces more than one space\n",
    "\n",
    "df['no_stop'] = df.prepped.apply(lemmatize_text)  # Lemmatize each word\n",
    "\n",
    "df.head()"
   ]
  },
  {
   "cell_type": "markdown",
   "metadata": {},
   "source": [
    "### Save part of dataframe as test"
   ]
  },
  {
   "cell_type": "code",
   "execution_count": 106,
   "metadata": {},
   "outputs": [],
   "source": [
    "test = df[0:2000]\n",
    "df = df[2000:]\n",
    "test.to_csv('test.csv', index=False)"
   ]
  },
  {
   "cell_type": "code",
   "execution_count": 35,
   "metadata": {},
   "outputs": [],
   "source": [
    "w2v = Word2Vec(min_count=4,\n",
    "                window=5,\n",
    "                vector_size=300,\n",
    "                sample=1e-5,\n",
    "                alpha=0.03,\n",
    "                min_alpha=0.0007,\n",
    "                negative=20,\n",
    "                seed=42,\n",
    "                workers=multiprocessing.cpu_count()-2)\n",
    "\n",
    "w2v.build_vocab(df.no_stop, progress_per=500)"
   ]
  },
  {
   "cell_type": "code",
   "execution_count": 42,
   "metadata": {},
   "outputs": [
    {
     "data": {
      "text/plain": [
       "[('alert', 0.9555611610412598),\n",
       " ('came', 0.9448983073234558),\n",
       " ('basic', 0.9428791403770447),\n",
       " ('mini', 0.9405869841575623),\n",
       " ('character', 0.9374615550041199),\n",
       " ('r', 0.9367951154708862),\n",
       " ('alpha', 0.9362068772315979),\n",
       " ('edition', 0.9358429908752441),\n",
       " ('everyones', 0.9350059628486633),\n",
       " ('choosing', 0.9323453307151794)]"
      ]
     },
     "execution_count": 42,
     "metadata": {},
     "output_type": "execute_result"
    }
   ],
   "source": [
    "w2v.train(df.no_stop, total_examples=len(df), epochs=80, report_delay=1)\n",
    "w2v.wv.most_similar(positive=['sell'])"
   ]
  },
  {
   "cell_type": "code",
   "execution_count": 90,
   "metadata": {},
   "outputs": [],
   "source": [
    "word_vector = w2v.wv\n",
    "model = KMeans(n_clusters=5, max_iter=1000, random_state=42, n_init=50).fit(X=word_vector.vectors.astype('double'))"
   ]
  },
  {
   "cell_type": "code",
   "execution_count": 95,
   "metadata": {},
   "outputs": [
    {
     "data": {
      "text/plain": [
       "[('task', 0.9774011969566345),\n",
       " ('great', 0.973717451095581),\n",
       " ('birthday', 0.9735874533653259),\n",
       " ('audit', 0.973149299621582),\n",
       " ('millionaire', 0.9725526571273804),\n",
       " ('ring', 0.9718733429908752),\n",
       " ('updated', 0.971197783946991),\n",
       " ('casino', 0.9710255265235901),\n",
       " ('checkout', 0.9709904789924622),\n",
       " ('juicy', 0.9707861542701721),\n",
       " ('tip', 0.9698817133903503),\n",
       " ('passive', 0.9698745608329773),\n",
       " ('usdc', 0.9689943790435791),\n",
       " ('harmonyone', 0.9689796566963196),\n",
       " ('left', 0.9685894846916199),\n",
       " ('grow', 0.9683548808097839),\n",
       " ('dex', 0.9675458073616028),\n",
       " ('nexo', 0.9674485921859741),\n",
       " ('testing', 0.967409074306488),\n",
       " ('saitamawolfpack', 0.967171311378479),\n",
       " ('deposit', 0.9668306708335876),\n",
       " ('farm', 0.9667794704437256),\n",
       " ('register', 0.9664585590362549),\n",
       " ('tweeting', 0.9644635319709778),\n",
       " ('finished', 0.9640051126480103),\n",
       " ('grab', 0.9631189107894897),\n",
       " ('apr', 0.9626862406730652),\n",
       " ('gate', 0.9622088074684143),\n",
       " ('stream', 0.9619221687316895),\n",
       " ('drink', 0.961713969707489),\n",
       " ('fly', 0.961210310459137),\n",
       " ('thread', 0.9611973166465759),\n",
       " ('celebration', 0.9604251980781555),\n",
       " ('kadena', 0.9601359963417053),\n",
       " ('st', 0.9593740105628967),\n",
       " ('impactxp', 0.9593307375907898),\n",
       " ('promised', 0.9592522978782654),\n",
       " ('edition', 0.9592294096946716),\n",
       " ('aircash', 0.9590296149253845),\n",
       " ('background', 0.9584951996803284),\n",
       " ('genesis', 0.9584949016571045),\n",
       " ('ico', 0.9581489562988281),\n",
       " ('happy', 0.9580734372138977),\n",
       " ('aircoindaolabs', 0.9579182267189026),\n",
       " ('cryptotwitter', 0.9573307037353516),\n",
       " ('legend', 0.9571180939674377),\n",
       " ('whats', 0.9570147395133972),\n",
       " ('hurry', 0.9567633867263794),\n",
       " ('tsla', 0.9566711783409119),\n",
       " ('utility', 0.9564089775085449),\n",
       " ('excited', 0.9562755823135376),\n",
       " ('discount', 0.9562247395515442),\n",
       " ('content', 0.9555931687355042),\n",
       " ('hey', 0.9551296234130859),\n",
       " ('accepts', 0.9548463225364685),\n",
       " ('webinar', 0.9546626806259155),\n",
       " ('youtube', 0.9544660449028015),\n",
       " ('dyor', 0.954290509223938),\n",
       " ('livestream', 0.9539733529090881),\n",
       " ('ethereumclassic', 0.9535815715789795),\n",
       " ('hi', 0.9531785249710083),\n",
       " ('gambling', 0.9526841640472412),\n",
       " ('wrapped', 0.9519990086555481),\n",
       " ('scarcedotcity', 0.9515464901924133),\n",
       " ('boredapeyc', 0.9514322876930237),\n",
       " ('alert', 0.951394259929657),\n",
       " ('acquire', 0.9513194561004639),\n",
       " ('resource', 0.95111083984375),\n",
       " ('road', 0.9511101245880127),\n",
       " ('gm', 0.9510401487350464),\n",
       " ('integration', 0.9508411288261414),\n",
       " ('minute', 0.9504036903381348),\n",
       " ('knowledge', 0.9502277970314026),\n",
       " ('fbt', 0.9501009583473206),\n",
       " ('server', 0.9500284790992737),\n",
       " ('miss', 0.9499820470809937),\n",
       " ('visit', 0.9498462080955505),\n",
       " ('entertainment', 0.9497102499008179),\n",
       " ('platform', 0.9496340155601501),\n",
       " ('anonymity', 0.9495930671691895),\n",
       " ('dev', 0.9490200281143188),\n",
       " ('lfg', 0.9484190344810486),\n",
       " ('search', 0.948393702507019),\n",
       " ('digit', 0.9481028318405151),\n",
       " ('pp', 0.9479964375495911),\n",
       " ('en', 0.947678804397583),\n",
       " ('came', 0.9475792050361633),\n",
       " ('dubai', 0.9474876523017883),\n",
       " ('website', 0.9474092125892639),\n",
       " ('testnet', 0.9474089741706848),\n",
       " ('axionnetwork', 0.9473424553871155),\n",
       " ('league', 0.9473156332969666),\n",
       " ('launched', 0.9472960233688354),\n",
       " ('holy', 0.9472646117210388),\n",
       " ('dapps', 0.9470638632774353),\n",
       " ('thanks', 0.9469470977783203),\n",
       " ('glorious', 0.945913553237915),\n",
       " ('cryptocrash', 0.9458159804344177),\n",
       " ('definitely', 0.9457865953445435),\n",
       " ('ido', 0.9457852244377136)]"
      ]
     },
     "execution_count": 95,
     "metadata": {},
     "output_type": "execute_result"
    }
   ],
   "source": [
    "word_vector.similar_by_vector(model.cluster_centers_[4], topn=100, restrict_vocab=None)"
   ]
  },
  {
   "cell_type": "code",
   "execution_count": 97,
   "metadata": {},
   "outputs": [],
   "source": [
    "# Creating a DataFrame of words with their embeddings and cluster values\n",
    "words = pd.DataFrame(word_vector.index_to_key)\n",
    "words.columns = ['words']\n",
    "words['vectors'] = words.words.apply(lambda x: word_vector[f'{x}'])\n",
    "words['cluster'] = words.vectors.apply(lambda x: model.predict([np.array(x)]))\n",
    "words.cluster = words.cluster.apply(lambda x: x[0])"
   ]
  },
  {
   "cell_type": "code",
   "execution_count": 98,
   "metadata": {},
   "outputs": [
    {
     "data": {
      "text/html": [
       "<div>\n",
       "<style scoped>\n",
       "    .dataframe tbody tr th:only-of-type {\n",
       "        vertical-align: middle;\n",
       "    }\n",
       "\n",
       "    .dataframe tbody tr th {\n",
       "        vertical-align: top;\n",
       "    }\n",
       "\n",
       "    .dataframe thead th {\n",
       "        text-align: right;\n",
       "    }\n",
       "</style>\n",
       "<table border=\"1\" class=\"dataframe\">\n",
       "  <thead>\n",
       "    <tr style=\"text-align: right;\">\n",
       "      <th></th>\n",
       "      <th>words</th>\n",
       "      <th>vectors</th>\n",
       "      <th>cluster</th>\n",
       "      <th>cluster_value</th>\n",
       "      <th>closeness_score</th>\n",
       "    </tr>\n",
       "  </thead>\n",
       "  <tbody>\n",
       "    <tr>\n",
       "      <th>1405</th>\n",
       "      <td>died</td>\n",
       "      <td>[0.5526212, 0.40486404, -0.062453747, -0.36026...</td>\n",
       "      <td>0</td>\n",
       "      <td>-1</td>\n",
       "      <td>0.169907</td>\n",
       "    </tr>\n",
       "    <tr>\n",
       "      <th>807</th>\n",
       "      <td>ltc</td>\n",
       "      <td>[0.35099414, 0.2007427, 0.009689828, -0.246076...</td>\n",
       "      <td>0</td>\n",
       "      <td>-1</td>\n",
       "      <td>0.322882</td>\n",
       "    </tr>\n",
       "    <tr>\n",
       "      <th>144</th>\n",
       "      <td>xrp</td>\n",
       "      <td>[0.4266231, 0.20883259, 0.08483954, -0.2820574...</td>\n",
       "      <td>0</td>\n",
       "      <td>-1</td>\n",
       "      <td>0.337508</td>\n",
       "    </tr>\n",
       "    <tr>\n",
       "      <th>3175</th>\n",
       "      <td>eos</td>\n",
       "      <td>[0.30459625, 0.17886387, -0.0523775, -0.225188...</td>\n",
       "      <td>0</td>\n",
       "      <td>-1</td>\n",
       "      <td>0.342765</td>\n",
       "    </tr>\n",
       "    <tr>\n",
       "      <th>1914</th>\n",
       "      <td>bar</td>\n",
       "      <td>[-0.035773285, -0.18076387, -0.3484708, 0.2587...</td>\n",
       "      <td>0</td>\n",
       "      <td>-1</td>\n",
       "      <td>0.379302</td>\n",
       "    </tr>\n",
       "    <tr>\n",
       "      <th>...</th>\n",
       "      <td>...</td>\n",
       "      <td>...</td>\n",
       "      <td>...</td>\n",
       "      <td>...</td>\n",
       "      <td>...</td>\n",
       "    </tr>\n",
       "    <tr>\n",
       "      <th>1112</th>\n",
       "      <td>downside</td>\n",
       "      <td>[0.14661273, -0.15494701, -0.31981233, 0.01528...</td>\n",
       "      <td>0</td>\n",
       "      <td>-1</td>\n",
       "      <td>3.039766</td>\n",
       "    </tr>\n",
       "    <tr>\n",
       "      <th>2169</th>\n",
       "      <td>kk</td>\n",
       "      <td>[0.08923957, -0.155825, -0.29709536, 0.0258528...</td>\n",
       "      <td>0</td>\n",
       "      <td>-1</td>\n",
       "      <td>3.046409</td>\n",
       "    </tr>\n",
       "    <tr>\n",
       "      <th>843</th>\n",
       "      <td>capitulation</td>\n",
       "      <td>[0.1646177, -0.15468073, -0.31849667, -0.01160...</td>\n",
       "      <td>0</td>\n",
       "      <td>-1</td>\n",
       "      <td>3.103488</td>\n",
       "    </tr>\n",
       "    <tr>\n",
       "      <th>2993</th>\n",
       "      <td>rejection</td>\n",
       "      <td>[0.087001175, -0.15687859, -0.2892456, 0.01403...</td>\n",
       "      <td>0</td>\n",
       "      <td>-1</td>\n",
       "      <td>3.381994</td>\n",
       "    </tr>\n",
       "    <tr>\n",
       "      <th>3161</th>\n",
       "      <td>retesting</td>\n",
       "      <td>[0.115640625, -0.15158895, -0.31530136, 0.0182...</td>\n",
       "      <td>0</td>\n",
       "      <td>-1</td>\n",
       "      <td>4.024815</td>\n",
       "    </tr>\n",
       "  </tbody>\n",
       "</table>\n",
       "<p>485 rows × 5 columns</p>\n",
       "</div>"
      ],
      "text/plain": [
       "             words                                            vectors  \\\n",
       "1405          died  [0.5526212, 0.40486404, -0.062453747, -0.36026...   \n",
       "807            ltc  [0.35099414, 0.2007427, 0.009689828, -0.246076...   \n",
       "144            xrp  [0.4266231, 0.20883259, 0.08483954, -0.2820574...   \n",
       "3175           eos  [0.30459625, 0.17886387, -0.0523775, -0.225188...   \n",
       "1914           bar  [-0.035773285, -0.18076387, -0.3484708, 0.2587...   \n",
       "...            ...                                                ...   \n",
       "1112      downside  [0.14661273, -0.15494701, -0.31981233, 0.01528...   \n",
       "2169            kk  [0.08923957, -0.155825, -0.29709536, 0.0258528...   \n",
       "843   capitulation  [0.1646177, -0.15468073, -0.31849667, -0.01160...   \n",
       "2993     rejection  [0.087001175, -0.15687859, -0.2892456, 0.01403...   \n",
       "3161     retesting  [0.115640625, -0.15158895, -0.31530136, 0.0182...   \n",
       "\n",
       "      cluster  cluster_value  closeness_score  \n",
       "1405        0             -1         0.169907  \n",
       "807         0             -1         0.322882  \n",
       "144         0             -1         0.337508  \n",
       "3175        0             -1         0.342765  \n",
       "1914        0             -1         0.379302  \n",
       "...       ...            ...              ...  \n",
       "1112        0             -1         3.039766  \n",
       "2169        0             -1         3.046409  \n",
       "843         0             -1         3.103488  \n",
       "2993        0             -1         3.381994  \n",
       "3161        0             -1         4.024815  \n",
       "\n",
       "[485 rows x 5 columns]"
      ]
     },
     "execution_count": 98,
     "metadata": {},
     "output_type": "execute_result"
    }
   ],
   "source": [
    "words['cluster_value'] = [-1 if i==0 else 1 if i==4 else 0 for i in words.cluster]\n",
    "words['closeness_score'] = words.apply(lambda x: 1/(model.transform([x.vectors]).min()), axis=1)\n",
    "words[words[\"cluster_value\"]==-1].sort_values(\"closeness_score\")"
   ]
  },
  {
   "cell_type": "code",
   "execution_count": 100,
   "metadata": {},
   "outputs": [],
   "source": [
    "positive = ['buy','bull','moon','shib','profit','rich']\n",
    "neutral = ['analysis','sentiment','trade']\n",
    "negative= ['sell','bear','fear','dump','poor']\n",
    "for i in positive:\n",
    "    words.loc[words[\"words\"]==i,\"cluster_value\"]=1\n",
    "    \n",
    "for i in neutral:\n",
    "    words.loc[words[\"words\"]==i,\"cluster_value\"]=0\n",
    "    \n",
    "for i in negative:\n",
    "    words.loc[words[\"words\"]==i,\"cluster_value\"]=-1"
   ]
  },
  {
   "cell_type": "code",
   "execution_count": 102,
   "metadata": {},
   "outputs": [
    {
     "data": {
      "image/png": "[encoded data removed]",
      "text/plain": [
       "<Figure size 504x504 with 1 Axes>"
      ]
     },
     "metadata": {},
     "output_type": "display_data"
    },
    {
     "data": {
      "text/html": [
       "<div>\n",
       "<style scoped>\n",
       "    .dataframe tbody tr th:only-of-type {\n",
       "        vertical-align: middle;\n",
       "    }\n",
       "\n",
       "    .dataframe tbody tr th {\n",
       "        vertical-align: top;\n",
       "    }\n",
       "\n",
       "    .dataframe thead th {\n",
       "        text-align: right;\n",
       "    }\n",
       "</style>\n",
       "<table border=\"1\" class=\"dataframe\">\n",
       "  <thead>\n",
       "    <tr style=\"text-align: right;\">\n",
       "      <th></th>\n",
       "      <th>index</th>\n",
       "      <th>sentiments</th>\n",
       "    </tr>\n",
       "  </thead>\n",
       "  <tbody>\n",
       "    <tr>\n",
       "      <th>0</th>\n",
       "      <td>neutral</td>\n",
       "      <td>2171</td>\n",
       "    </tr>\n",
       "    <tr>\n",
       "      <th>1</th>\n",
       "      <td>positive</td>\n",
       "      <td>768</td>\n",
       "    </tr>\n",
       "    <tr>\n",
       "      <th>2</th>\n",
       "      <td>negative</td>\n",
       "      <td>480</td>\n",
       "    </tr>\n",
       "  </tbody>\n",
       "</table>\n",
       "</div>"
      ],
      "text/plain": [
       "      index  sentiments\n",
       "0   neutral        2171\n",
       "1  positive         768\n",
       "2  negative         480"
      ]
     },
     "execution_count": 102,
     "metadata": {},
     "output_type": "execute_result"
    }
   ],
   "source": [
    "# Plotting pie chart of Sentiment Distribution of words\n",
    "emotion = {0: \"neutral\",\n",
    "           1: \"positive\",\n",
    "          -1: \"negative\"}\n",
    "\n",
    "words[\"sentiments\"] = words[\"cluster_value\"].map(emotion)\n",
    "\n",
    "fig = plt.gcf()\n",
    "fig.set_size_inches(7,7)\n",
    "colors = [\"cyan\",\"pink\",\"yellow\"]\n",
    "df_pie=words[\"sentiments\"].value_counts().reset_index()\n",
    "plt.pie(df_pie[\"sentiments\"],labels=df_pie[\"index\"],radius=2,colors=colors,autopct=\"%1.1f%%\")\n",
    "plt.axis('equal')\n",
    "plt.title(\"Sentiment Distribution of Words \", fontsize=20)\n",
    "plt.show()\n",
    "df_pie"
   ]
  },
  {
   "cell_type": "code",
   "execution_count": 103,
   "metadata": {},
   "outputs": [],
   "source": [
    "words_dict = dict(zip(words.words, words.cluster_value))"
   ]
  },
  {
   "cell_type": "code",
   "execution_count": 104,
   "metadata": {},
   "outputs": [],
   "source": [
    "import pickle\n",
    "\n",
    "with open('model.pkl', 'wb') as f:\n",
    "    pickle.dump(words_dict, f)"
   ]
  }
 ],
 "metadata": {
  "interpreter": {
   "hash": "ad2bdc8ecc057115af97d19610ffacc2b4e99fae6737bb82f5d7fb13d2f2c186"
  },
  "kernelspec": {
   "display_name": "Python 3.9.7 ('base')",
   "language": "python",
   "name": "python3"
  },
  "language_info": {
   "codemirror_mode": {
    "name": "ipython",
    "version": 3
   },
   "file_extension": ".py",
   "mimetype": "text/x-python",
   "name": "python",
   "nbconvert_exporter": "python",
   "pygments_lexer": "ipython3",
   "version": "3.9.7"
  },
  "orig_nbformat": 4
 },
 "nbformat": 4,
 "nbformat_minor": 2
}
