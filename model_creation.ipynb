{
 "cells": [
  {
   "cell_type": "code",
   "execution_count": 2,
   "metadata": {},
   "outputs": [
    {
     "name": "stderr",
     "output_type": "stream",
     "text": [
      "[nltk_data] Downloading package wordnet to\n",
      "[nltk_data]     C:\\Users\\jflit\\AppData\\Roaming\\nltk_data...\n",
      "[nltk_data]   Package wordnet is already up-to-date!\n",
      "[nltk_data] Downloading package stopwords to\n",
      "[nltk_data]     C:\\Users\\jflit\\AppData\\Roaming\\nltk_data...\n",
      "[nltk_data]   Package stopwords is already up-to-date!\n"
     ]
    }
   ],
   "source": [
    "import numpy as np\n",
    "import pandas as pd\n",
    "import nltk\n",
    "import multiprocessing\n",
    "from gensim.models import Word2Vec\n",
    "from sklearn.cluster import KMeans\n",
    "nltk.download('wordnet')\n",
    "nltk.download('stopwords')\n",
    "w_tokenizer = nltk.tokenize.WhitespaceTokenizer()\n",
    "lemmatizer = nltk.stem.WordNetLemmatizer()\n",
    "from nltk.corpus import stopwords\n",
    "import twint\n",
    "import nest_asyncio\n",
    "import matplotlib.pyplot as plt\n",
    "nest_asyncio.apply()"
   ]
  },
  {
   "cell_type": "code",
   "execution_count": 2,
   "metadata": {},
   "outputs": [
    {
     "name": "stderr",
     "output_type": "stream",
     "text": [
      "CRITICAL:root:twint.run:Twint:Feed:noDataExpecting value: line 1 column 1 (char 0)\n",
      "sleeping for 1.0 secs\n",
      "CRITICAL:root:twint.run:Twint:Feed:noDataExpecting value: line 1 column 1 (char 0)\n",
      "sleeping for 8.0 secs\n",
      "CRITICAL:root:twint.run:Twint:Feed:noDataExpecting value: line 1 column 1 (char 0)\n",
      "sleeping for 27.0 secs\n"
     ]
    }
   ],
   "source": [
    "c = twint.Config()\n",
    "c.Search= 'bitcoin'\n",
    "\n",
    "c.Min_likes = 10\n",
    "c.Count = True\n",
    "c.Since = \"2022-05-16\"\n",
    "c.Store_csv = True # This is for storing file in csv format (if you want in json file it will be c.Store_json=True)\n",
    "c.Output = 'recent.csv'\n",
    "\n",
    "_ = twint.run.Search(c)"
   ]
  },
  {
   "cell_type": "markdown",
   "metadata": {},
   "source": [
    "### Import it into dataframe"
   ]
  },
  {
   "cell_type": "code",
   "execution_count": 3,
   "metadata": {},
   "outputs": [
    {
     "name": "stderr",
     "output_type": "stream",
     "text": [
      "c:\\ProgramData\\Anaconda3\\lib\\site-packages\\IPython\\core\\interactiveshell.py:3444: DtypeWarning: Columns (9) have mixed types.Specify dtype option on import or set low_memory=False.\n",
      "  exec(code_obj, self.user_global_ns, self.user_ns)\n"
     ]
    }
   ],
   "source": [
    "df = pd.read_csv('bitcoin.csv')\n",
    "\n",
    "df = df[df[\"language\"]==\"en\"] #Get rid of non-english tweets\n",
    "# dropping all the duplicates tweets and keeping only the first values\n",
    "df = df.drop_duplicates(subset=\"tweet\",keep=\"first\")\n",
    "df = df[['date', 'tweet']]\n",
    "df.reset_index(inplace=True, drop=True)"
   ]
  },
  {
   "cell_type": "markdown",
   "metadata": {},
   "source": [
    "### Data processing down to lemma form"
   ]
  },
  {
   "cell_type": "code",
   "execution_count": 4,
   "metadata": {},
   "outputs": [],
   "source": [
    "def lemmatize_text(text):\n",
    "    return list([lemmatizer.lemmatize(w) for w in w_tokenizer.tokenize(text)])"
   ]
  },
  {
   "cell_type": "code",
   "execution_count": 5,
   "metadata": {},
   "outputs": [],
   "source": [
    "df['tweet'] = df['tweet'].astype(str)\n",
    "df['tweet'] = df['tweet'].str.lower()  # Make everything lowercase\n",
    "df['tweet'] = df['tweet'].str.replace(r'[^a-z\\s]', '', regex=True)  # Remove anything not numeric\n",
    "\n",
    "df['lemmatized'] = df.tweet.apply(lemmatize_text)  # Lemmatize each word\n",
    "\n",
    "df['lemmatized'] = pd.DataFrame(df.lemmatized.tolist()).fillna('').astype(str).agg(' '.join, 1)  # Concatenate the lemmatized words\n",
    "df = df[df['lemmatized'].notna()]\n",
    "df = df[df[\"lemmatized\"].str.contains(\"bitcoin\")]  # Get rid of rows where the word bitcoin isnt present in the tweet\n",
    "\n",
    "stop = stopwords.words('english')\n",
    "pat = r'\\b(?:{})\\b'.format('|'.join(stop))  # Create regex pattern from stopwords\n",
    "df['no_stop'] = df['lemmatized'].str.replace(pat, '', regex=True)  # Remove stop words\n",
    "df['no_stop'] = df['no_stop'].str.replace(r'\\s+', ' ', regex=True)  # Remove spaces more than one space\n",
    "\n",
    "df['no_stop'] = df.no_stop.apply(lemmatize_text)  # Lemmatize each word again\n",
    "\n",
    "df.reset_index(inplace=True, drop=True)\n",
    "df['prepped'] = pd.DataFrame(df.lemmatized.tolist()).fillna('').astype(str).agg(' '.join, 1)"
   ]
  },
  {
   "cell_type": "markdown",
   "metadata": {},
   "source": [
    "### Save part of dataframe as test"
   ]
  },
  {
   "cell_type": "code",
   "execution_count": 6,
   "metadata": {},
   "outputs": [],
   "source": [
    "test = df[0:2000]\n",
    "df = df[2000:]\n",
    "test.to_pickle('test.pickle')\n",
    "df.to_pickle('train.pickle')"
   ]
  },
  {
   "cell_type": "code",
   "execution_count": 7,
   "metadata": {},
   "outputs": [],
   "source": [
    "w2v = Word2Vec(min_count=4,\n",
    "                window=5,\n",
    "                vector_size=300,\n",
    "                sample=1e-5,\n",
    "                alpha=0.03,\n",
    "                min_alpha=0.0007,\n",
    "                negative=20,\n",
    "                seed=42,\n",
    "                workers=multiprocessing.cpu_count()-2)\n",
    "\n",
    "w2v.build_vocab(df.no_stop, progress_per=500)"
   ]
  },
  {
   "cell_type": "code",
   "execution_count": 10,
   "metadata": {},
   "outputs": [
    {
     "data": {
      "text/plain": [
       "[('buy', 0.7424719333648682),\n",
       " ('buying', 0.7241766452789307),\n",
       " ('everytime', 0.7078250050544739),\n",
       " ('thinkingbitmex', 0.6941163539886475),\n",
       " ('tanked', 0.692104697227478),\n",
       " ('salty', 0.6790027022361755),\n",
       " ('dumped', 0.6757903099060059),\n",
       " ('dip', 0.6717361211776733),\n",
       " ('jerryxfeng', 0.671116828918457),\n",
       " ('liquidate', 0.6696217656135559)]"
      ]
     },
     "execution_count": 10,
     "metadata": {},
     "output_type": "execute_result"
    }
   ],
   "source": [
    "w2v.train(df.no_stop, total_examples=len(df), epochs=20, report_delay=1)\n",
    "w2v.wv.most_similar(positive=['sell'])"
   ]
  },
  {
   "cell_type": "code",
   "execution_count": 11,
   "metadata": {},
   "outputs": [],
   "source": [
    "word_vector = w2v.wv\n",
    "model = KMeans(n_clusters=3, max_iter=1000, random_state=42, n_init=50).fit(X=word_vector.vectors.astype('double'))"
   ]
  },
  {
   "cell_type": "code",
   "execution_count": 12,
   "metadata": {},
   "outputs": [
    {
     "data": {
      "text/plain": [
       "[('httpstcodlainexsi', 0.8835024833679199),\n",
       " ('responding', 0.854938268661499),\n",
       " ('computation', 0.8494735360145569),\n",
       " ('robbery', 0.8456910848617554),\n",
       " ('discourse', 0.8429225087165833),\n",
       " ('samson', 0.8406182527542114),\n",
       " ('enforcement', 0.8355022072792053),\n",
       " ('btcfts', 0.8333122134208679),\n",
       " ('widespread', 0.8326507806777954),\n",
       " ('til', 0.829191267490387),\n",
       " ('potus', 0.8274006247520447),\n",
       " ('tldr', 0.82649827003479),\n",
       " ('joitristan', 0.8255391716957092),\n",
       " ('impose', 0.8241475820541382),\n",
       " ('wallstreetsilv', 0.8237719535827637),\n",
       " ('facilitates', 0.8182666897773743),\n",
       " ('debase', 0.8149943351745605),\n",
       " ('patriotnz', 0.813797116279602),\n",
       " ('controlling', 0.8122346997261047),\n",
       " ('cheat', 0.8109836578369141),\n",
       " ('ford', 0.810004711151123),\n",
       " ('differ', 0.8096716403961182),\n",
       " ('encrypted', 0.8066016435623169),\n",
       " ('prosper', 0.8064727783203125),\n",
       " ('busting', 0.8062777519226074),\n",
       " ('wbd', 0.8018061518669128),\n",
       " ('nontechnical', 0.800786018371582),\n",
       " ('dystopia', 0.8004111051559448),\n",
       " ('gmbutts', 0.7996522188186646),\n",
       " ('deitaone', 0.797387957572937),\n",
       " ('soundmoney', 0.7959284782409668),\n",
       " ('politically', 0.7953508496284485),\n",
       " ('algodtrading', 0.791463315486908),\n",
       " ('utter', 0.7914396524429321),\n",
       " ('dethrone', 0.7902722358703613),\n",
       " ('bail', 0.7885884642601013),\n",
       " ('availability', 0.7882894277572632),\n",
       " ('documentingbtc', 0.7881478071212769),\n",
       " ('realizes', 0.786809504032135),\n",
       " ('telephone', 0.786587119102478),\n",
       " ('relentlessly', 0.7861527800559998),\n",
       " ('productivity', 0.784743070602417),\n",
       " ('planner', 0.7837910056114197),\n",
       " ('blocking', 0.7830051779747009),\n",
       " ('ftw', 0.782594621181488),\n",
       " ('bribe', 0.7816191911697388),\n",
       " ('conduct', 0.7810994386672974),\n",
       " ('leadlagreport', 0.7800934910774231),\n",
       " ('cryptobitcoin', 0.7776554226875305),\n",
       " ('proclaim', 0.7768438458442688),\n",
       " ('scotland', 0.7761263847351074),\n",
       " ('messaging', 0.7760229706764221),\n",
       " ('detractor', 0.7754399180412292),\n",
       " ('damned', 0.7750155329704285),\n",
       " ('dealing', 0.7737498879432678),\n",
       " ('unusualwhales', 0.7736451625823975),\n",
       " ('evaluate', 0.7726004719734192),\n",
       " ('hhorsley', 0.7721410393714905),\n",
       " ('proponent', 0.771470308303833),\n",
       " ('stamp', 0.7707898020744324),\n",
       " ('bitcoinundisc', 0.770442545413971),\n",
       " ('decouples', 0.7694705128669739),\n",
       " ('bankofcanada', 0.7693825960159302),\n",
       " ('intellectually', 0.7689750790596008),\n",
       " ('worrying', 0.7688585519790649),\n",
       " ('tolerate', 0.7680977582931519),\n",
       " ('systemic', 0.7676228284835815),\n",
       " ('disguise', 0.7671846151351929),\n",
       " ('norm', 0.7661898732185364),\n",
       " ('egalitarian', 0.7649899125099182),\n",
       " ('disguised', 0.7645761966705322),\n",
       " ('advertise', 0.7641043663024902),\n",
       " ('shiftcryptohq', 0.7641025185585022),\n",
       " ('jail', 0.7630012035369873),\n",
       " ('socialist', 0.7628791332244873),\n",
       " ('jfc', 0.7618131041526794),\n",
       " ('concentration', 0.7618073225021362),\n",
       " ('shiny', 0.7608544826507568),\n",
       " ('motive', 0.7601824998855591),\n",
       " ('incorruptible', 0.7600833773612976),\n",
       " ('anyways', 0.7598778009414673),\n",
       " ('mandate', 0.7598623037338257),\n",
       " ('selfsovereignty', 0.7590662837028503),\n",
       " ('incentivized', 0.7589965462684631),\n",
       " ('dylanleclair', 0.7584782242774963),\n",
       " ('eliminated', 0.7569963335990906),\n",
       " ('matrix', 0.7567213773727417),\n",
       " ('chicken', 0.756309986114502),\n",
       " ('execute', 0.7561329007148743),\n",
       " ('viable', 0.7561036944389343),\n",
       " ('boc', 0.7555239796638489),\n",
       " ('wealthiest', 0.7542345523834229),\n",
       " ('btcarchive', 0.7533842325210571),\n",
       " ('abundance', 0.7533006072044373),\n",
       " ('beneficial', 0.7530866265296936),\n",
       " ('oppose', 0.7529659271240234),\n",
       " ('nfergus', 0.7523795366287231),\n",
       " ('governing', 0.7518463730812073),\n",
       " ('enrich', 0.7502909898757935),\n",
       " ('eliminates', 0.7502645254135132)]"
      ]
     },
     "execution_count": 12,
     "metadata": {},
     "output_type": "execute_result"
    }
   ],
   "source": [
    "word_vector.similar_by_vector(model.cluster_centers_[0], topn=100, restrict_vocab=None)\n",
    "# 0 is nfts, 1 analysis and negative, 2 positive, 3 is about laws and world stuff"
   ]
  },
  {
   "cell_type": "code",
   "execution_count": 16,
   "metadata": {},
   "outputs": [
    {
     "data": {
      "text/html": [
       "<div>\n",
       "<style scoped>\n",
       "    .dataframe tbody tr th:only-of-type {\n",
       "        vertical-align: middle;\n",
       "    }\n",
       "\n",
       "    .dataframe tbody tr th {\n",
       "        vertical-align: top;\n",
       "    }\n",
       "\n",
       "    .dataframe thead th {\n",
       "        text-align: right;\n",
       "    }\n",
       "</style>\n",
       "<table border=\"1\" class=\"dataframe\">\n",
       "  <thead>\n",
       "    <tr style=\"text-align: right;\">\n",
       "      <th></th>\n",
       "      <th>words</th>\n",
       "      <th>vectors</th>\n",
       "      <th>cluster</th>\n",
       "      <th>closeness_score</th>\n",
       "    </tr>\n",
       "  </thead>\n",
       "  <tbody>\n",
       "    <tr>\n",
       "      <th>1404</th>\n",
       "      <td>axion</td>\n",
       "      <td>[0.11776882, 0.49060488, -0.35535908, -0.23997...</td>\n",
       "      <td>3</td>\n",
       "      <td>0.168817</td>\n",
       "    </tr>\n",
       "    <tr>\n",
       "      <th>419</th>\n",
       "      <td>nasdaq</td>\n",
       "      <td>[0.4722705, -0.15847564, -0.13540336, 0.329445...</td>\n",
       "      <td>3</td>\n",
       "      <td>0.206143</td>\n",
       "    </tr>\n",
       "    <tr>\n",
       "      <th>2193</th>\n",
       "      <td>jeffbooth</td>\n",
       "      <td>[-0.4871932, -0.052405488, 0.02405108, 0.20148...</td>\n",
       "      <td>3</td>\n",
       "      <td>0.243680</td>\n",
       "    </tr>\n",
       "  </tbody>\n",
       "</table>\n",
       "</div>"
      ],
      "text/plain": [
       "          words                                            vectors  cluster  \\\n",
       "1404      axion  [0.11776882, 0.49060488, -0.35535908, -0.23997...        3   \n",
       "419      nasdaq  [0.4722705, -0.15847564, -0.13540336, 0.329445...        3   \n",
       "2193  jeffbooth  [-0.4871932, -0.052405488, 0.02405108, 0.20148...        3   \n",
       "\n",
       "      closeness_score  \n",
       "1404         0.168817  \n",
       "419          0.206143  \n",
       "2193         0.243680  "
      ]
     },
     "execution_count": 16,
     "metadata": {},
     "output_type": "execute_result"
    }
   ],
   "source": [
    "# Creating a DataFrame of words with their embeddings and cluster values\n",
    "words = pd.DataFrame(word_vector.index_to_key)\n",
    "words.columns = ['words']\n",
    "words['vectors'] = words.words.apply(lambda x: word_vector[f'{x}'])\n",
    "words['cluster'] = words.vectors.apply(lambda x: model.predict([np.array(x)]))\n",
    "words.cluster = words.cluster.apply(lambda x: x[0])\n",
    "\n",
    "positive = ['buy','bull','moon','shib','profit','rich','gem','wonderful', 'cheap', 'altcoinseason', 'excited', 'inspired', 'sweet', 'incredible', 'upwards', 'bullish']\n",
    "world = ['axion', 'nasdaq', 'jeffbooth']\n",
    "negative= ['sell','bear','fear','dump','poor', 'hell', 'shit', 'poor', 'fake', 'sad']\n",
    "nfts = ['nft']\n",
    "\n",
    "for i in positive:\n",
    "    words.loc[words[\"words\"]==i,\"cluster\"]=2\n",
    "    \n",
    "for i in world:\n",
    "    words.loc[words[\"words\"]==i,\"cluster\"]=3\n",
    "    \n",
    "for i in negative:\n",
    "    words.loc[words[\"words\"]==i,\"cluster\"]=1\n",
    "\n",
    "for i in nfts:\n",
    "    words.loc[words[\"words\"]==i,\"cluster\"]=0\n",
    "\n",
    "words['closeness_score'] = words.apply(lambda x: 1/(model.transform([x.vectors]).min()), axis=1)\n",
    "words[words[\"cluster\"]==3].sort_values(\"closeness_score\")"
   ]
  },
  {
   "cell_type": "code",
   "execution_count": 17,
   "metadata": {},
   "outputs": [
    {
     "data": {
      "image/png": "[encoded data removed]",
      "text/plain": [
       "<Figure size 504x504 with 1 Axes>"
      ]
     },
     "metadata": {},
     "output_type": "display_data"
    },
    {
     "data": {
      "text/html": [
       "<div>\n",
       "<style scoped>\n",
       "    .dataframe tbody tr th:only-of-type {\n",
       "        vertical-align: middle;\n",
       "    }\n",
       "\n",
       "    .dataframe tbody tr th {\n",
       "        vertical-align: top;\n",
       "    }\n",
       "\n",
       "    .dataframe thead th {\n",
       "        text-align: right;\n",
       "    }\n",
       "</style>\n",
       "<table border=\"1\" class=\"dataframe\">\n",
       "  <thead>\n",
       "    <tr style=\"text-align: right;\">\n",
       "      <th></th>\n",
       "      <th>index</th>\n",
       "      <th>sentiments</th>\n",
       "    </tr>\n",
       "  </thead>\n",
       "  <tbody>\n",
       "    <tr>\n",
       "      <th>0</th>\n",
       "      <td>nfts</td>\n",
       "      <td>3800</td>\n",
       "    </tr>\n",
       "    <tr>\n",
       "      <th>1</th>\n",
       "      <td>positive</td>\n",
       "      <td>2160</td>\n",
       "    </tr>\n",
       "    <tr>\n",
       "      <th>2</th>\n",
       "      <td>negative</td>\n",
       "      <td>1759</td>\n",
       "    </tr>\n",
       "    <tr>\n",
       "      <th>3</th>\n",
       "      <td>world</td>\n",
       "      <td>3</td>\n",
       "    </tr>\n",
       "  </tbody>\n",
       "</table>\n",
       "</div>"
      ],
      "text/plain": [
       "      index  sentiments\n",
       "0      nfts        3800\n",
       "1  positive        2160\n",
       "2  negative        1759\n",
       "3     world           3"
      ]
     },
     "execution_count": 17,
     "metadata": {},
     "output_type": "execute_result"
    }
   ],
   "source": [
    "# Plotting pie chart of Sentiment Distribution of words\n",
    "emotion = {0: \"nfts\",\n",
    "           1: \"negative\",\n",
    "           2: \"positive\",\n",
    "           3: \"world\"}\n",
    "\n",
    "words[\"sentiments\"] = words[\"cluster\"].map(emotion)\n",
    "\n",
    "fig = plt.gcf()\n",
    "fig.set_size_inches(7,7)\n",
    "colors = [\"cyan\",\"pink\",\"yellow\", \"orange\"]\n",
    "df_pie=words[\"sentiments\"].value_counts().reset_index()\n",
    "plt.pie(df_pie[\"sentiments\"],labels=df_pie[\"index\"],radius=2,colors=colors,autopct=\"%1.1f%%\")\n",
    "plt.axis('equal')\n",
    "plt.title(\"Sentiment Distribution of Words\", fontsize=20)\n",
    "plt.show()\n",
    "df_pie"
   ]
  },
  {
   "cell_type": "code",
   "execution_count": 18,
   "metadata": {},
   "outputs": [],
   "source": [
    "words_dict = dict(zip(words.words, words.cluster))"
   ]
  },
  {
   "cell_type": "code",
   "execution_count": 19,
   "metadata": {},
   "outputs": [],
   "source": [
    "import pickle\n",
    "\n",
    "with open('bad.pkl', 'wb') as f:\n",
    "    pickle.dump(words_dict, f)"
   ]
  }
 ],
 "metadata": {
  "interpreter": {
   "hash": "ad2bdc8ecc057115af97d19610ffacc2b4e99fae6737bb82f5d7fb13d2f2c186"
  },
  "kernelspec": {
   "display_name": "Python 3.9.7 ('base')",
   "language": "python",
   "name": "python3"
  },
  "language_info": {
   "codemirror_mode": {
    "name": "ipython",
    "version": 3
   },
   "file_extension": ".py",
   "mimetype": "text/x-python",
   "name": "python",
   "nbconvert_exporter": "python",
   "pygments_lexer": "ipython3",
   "version": "3.9.7"
  },
  "orig_nbformat": 4
 },
 "nbformat": 4,
 "nbformat_minor": 2
}
